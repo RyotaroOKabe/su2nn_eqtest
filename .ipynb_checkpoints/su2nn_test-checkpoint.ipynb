{
 "cells": [
  {
   "cell_type": "markdown",
   "id": "9c9665a8",
   "metadata": {},
   "source": [
    "# Irreducible representations"
   ]
  },
  {
   "cell_type": "code",
   "execution_count": 1,
   "id": "8a14ab50",
   "metadata": {},
   "outputs": [],
   "source": [
    "from su2nn_e3nn_core.su2 import Irreps"
   ]
  },
  {
   "cell_type": "code",
   "execution_count": 2,
   "id": "87c63cee",
   "metadata": {},
   "outputs": [
    {
     "data": {
      "text/plain": [
       "1x1oe"
      ]
     },
     "execution_count": 2,
     "metadata": {},
     "output_type": "execute_result"
    }
   ],
   "source": [
    "# physical vector \n",
    "irreps = Irreps(\"1oe\")\n",
    "irreps"
   ]
  },
  {
   "cell_type": "code",
   "execution_count": 3,
   "id": "ca4e29ef",
   "metadata": {},
   "outputs": [
    {
     "data": {
      "text/plain": [
       "1x1eo"
      ]
     },
     "execution_count": 3,
     "metadata": {},
     "output_type": "execute_result"
    }
   ],
   "source": [
    "# spin\n",
    "irreps2 = Irreps(\"1eo\")\n",
    "irreps2"
   ]
  },
  {
   "cell_type": "code",
   "execution_count": 4,
   "id": "ea7ee735",
   "metadata": {},
   "outputs": [
    {
     "name": "stdout",
     "output_type": "stream",
     "text": [
      "1\n",
      "1x1oe\n",
      "2\n",
      "1\n",
      "1oe\n",
      "1 -1\n"
     ]
    }
   ],
   "source": [
    "# Tuple[Tuple[int, Tuple[int, int]]]\n",
    "# ((multiplicity, (l, p)), ...)\n",
    "\n",
    "print(len(irreps))\n",
    "mul_ir = irreps[0]  # a tuple\n",
    "\n",
    "print(mul_ir)\n",
    "print(len(mul_ir))\n",
    "mul = mul_ir[0]  # an int\n",
    "ir = mul_ir[1]  # another tuple\n",
    "\n",
    "print(mul)\n",
    "\n",
    "print(ir)\n",
    "# print(len(ir))  ir is a tuple of 2 ints but __len__ has been disabled since it is always 2\n",
    "l = ir[0]\n",
    "p = ir[1]\n",
    "\n",
    "print(l, p)"
   ]
  },
  {
   "cell_type": "code",
   "execution_count": 5,
   "id": "e642f60a",
   "metadata": {},
   "outputs": [
    {
     "data": {
      "text/plain": [
       "tensor([[-1.+0.j, -0.+0.j, -0.+0.j],\n",
       "        [-0.+0.j, -1.+0.j, -0.+0.j],\n",
       "        [-0.+0.j, -0.+0.j, -1.+0.j]], dtype=torch.complex128)"
      ]
     },
     "execution_count": 5,
     "metadata": {},
     "output_type": "execute_result"
    }
   ],
   "source": [
    "import torch\n",
    "t = torch.tensor\n",
    "\n",
    "# show the transformation matrix corresponding to the inversion\n",
    "irreps.D_from_angles(alpha=t(0.0), beta=t(0.0), gamma=t(0.0), k=t(1))"
   ]
  },
  {
   "cell_type": "code",
   "execution_count": 6,
   "id": "6d498064",
   "metadata": {},
   "outputs": [
    {
     "data": {
      "text/plain": [
       "tensor([[0.9950+0.0998j, 0.0000+0.0000j, 0.0000+0.0000j],\n",
       "        [0.0000+0.0000j, 1.0000+0.0000j, 0.0000+0.0000j],\n",
       "        [0.0000+0.0000j, 0.0000+0.0000j, 0.9950-0.0998j]],\n",
       "       dtype=torch.complex128)"
      ]
     },
     "execution_count": 6,
     "metadata": {},
     "output_type": "execute_result"
    }
   ],
   "source": [
    "# a small rotation around the y axis\n",
    "irreps.D_from_angles(alpha=t(0.1), beta=t(0.0), gamma=t(0.0), k=t(0))"
   ]
  },
  {
   "cell_type": "code",
   "execution_count": 7,
   "id": "2e776dd4",
   "metadata": {},
   "outputs": [],
   "source": [
    "irreps = Irreps(\"7x0ee + 3x0oe + 5x1oe + 5x2oe\")"
   ]
  },
  {
   "cell_type": "code",
   "execution_count": 24,
   "id": "705ac568",
   "metadata": {},
   "outputs": [
    {
     "name": "stdout",
     "output_type": "stream",
     "text": [
      "tensor([[1.0000e+00+0.0000j, 0.0000e+00+0.0000j, 0.0000e+00+0.0000j,\n",
      "          ..., 0.0000e+00+0.0000j, 0.0000e+00+0.0000j,\n",
      "         0.0000e+00+0.0000j],\n",
      "        [0.0000e+00+0.0000j, 1.0000e+00+0.0000j, 0.0000e+00+0.0000j,\n",
      "          ..., 0.0000e+00+0.0000j, 0.0000e+00+0.0000j,\n",
      "         0.0000e+00+0.0000j],\n",
      "        [0.0000e+00+0.0000j, 0.0000e+00+0.0000j, 1.0000e+00+0.0000j,\n",
      "          ..., 0.0000e+00+0.0000j, 0.0000e+00+0.0000j,\n",
      "         0.0000e+00+0.0000j],\n",
      "        ...,\n",
      "        [0.0000e+00+0.0000j, 0.0000e+00+0.0000j, 0.0000e+00+0.0000j,\n",
      "          ..., 1.9016e-01-0.0000j, 0.0000e+00-0.0000j,\n",
      "         -0.0000e+00+0.0000j],\n",
      "        [0.0000e+00+0.0000j, 0.0000e+00+0.0000j, 0.0000e+00+0.0000j,\n",
      "          ..., -0.0000e+00+0.0000j, 2.9550e-05-0.0662j,\n",
      "         0.0000e+00-0.0000j],\n",
      "        [0.0000e+00+0.0000j, 0.0000e+00+0.0000j, 0.0000e+00+0.0000j,\n",
      "          ..., -0.0000e+00+0.0000j, -0.0000e+00+0.0000j,\n",
      "         5.2888e-01+0.0005j]], dtype=torch.complex128)\n"
     ]
    },
    {
     "data": {
      "text/plain": [
       "[]"
      ]
     },
     "execution_count": 24,
     "metadata": {},
     "output_type": "execute_result"
    },
    {
     "data": {
      "image/png": "[encoded data removed]",
      "text/plain": [
       "<Figure size 1000x500 with 2 Axes>"
      ]
     },
     "metadata": {},
     "output_type": "display_data"
    }
   ],
   "source": [
    "from su2nn_e3nn_core import su2\n",
    "rot = -su2.rand_matrix()\n",
    "\n",
    "D = irreps.D_from_matrix(rot)\n",
    "print(D)\n",
    "\n",
    "import matplotlib.pyplot as plt\n",
    "fig, axs = plt.subplots(1,2, figsize = (10, 5))\n",
    "ax1, ax2 = axs[0], axs[1]\n",
    "ax1.imshow(D.real, cmap='bwr', vmin=-1, vmax=1)\n",
    "ax1.set_title('Real')\n",
    "ax2.imshow(D.imag, cmap='bwr', vmin=-1, vmax=1)\n",
    "ax2.set_title('Imag')\n",
    "plt.plot()"
   ]
  },
  {
   "cell_type": "code",
   "execution_count": null,
   "id": "7ab8824a",
   "metadata": {},
   "outputs": [],
   "source": []
  },
  {
   "cell_type": "markdown",
   "id": "3d0a0a2b",
   "metadata": {},
   "source": [
    "# Convolution"
   ]
  },
  {
   "cell_type": "code",
   "execution_count": 25,
   "id": "2c268c5a",
   "metadata": {},
   "outputs": [],
   "source": [
    "import torch\n",
    "from torch_cluster import radius_graph\n",
    "from torch_scatter import scatter\n",
    "from su2nn_e3nn_core import su2, nn\n",
    "from su2nn_e3nn_core.math import soft_one_hot_linspace\n",
    "import matplotlib.pyplot as plt"
   ]
  },
  {
   "cell_type": "code",
   "execution_count": 26,
   "id": "c26ecf87",
   "metadata": {},
   "outputs": [],
   "source": [
    "irreps_input = su2.Irreps(\"10x0ee + 10x1eo\")\n",
    "irreps_output = su2.Irreps(\"20x0ee + 10x1eo\")"
   ]
  },
  {
   "cell_type": "code",
   "execution_count": 27,
   "id": "4c9b1863",
   "metadata": {},
   "outputs": [
    {
     "name": "stdout",
     "output_type": "stream",
     "text": [
      "torch.Size([3788])\n"
     ]
    },
    {
     "data": {
      "text/plain": [
       "37.88"
      ]
     },
     "execution_count": 27,
     "metadata": {},
     "output_type": "execute_result"
    }
   ],
   "source": [
    "# create node positions\n",
    "num_nodes = 100\n",
    "pos = torch.randn(num_nodes, 3)  # random node positions\n",
    "\n",
    "# create edges\n",
    "max_radius = 1.8\n",
    "edge_src, edge_dst = radius_graph(pos, max_radius, max_num_neighbors=num_nodes - 1)\n",
    "\n",
    "print(edge_src.shape)\n",
    "\n",
    "edge_vec = pos[edge_dst] - pos[edge_src]\n",
    "\n",
    "# compute z\n",
    "num_neighbors = len(edge_src) / num_nodes\n",
    "num_neighbors"
   ]
  },
  {
   "cell_type": "code",
   "execution_count": 28,
   "id": "b70957be",
   "metadata": {},
   "outputs": [
    {
     "name": "stdout",
     "output_type": "stream",
     "text": [
      "torch.Size([3816])\n"
     ]
    },
    {
     "data": {
      "text/plain": [
       "38.16"
      ]
     },
     "execution_count": 28,
     "metadata": {},
     "output_type": "execute_result"
    }
   ],
   "source": [
    "# create node positions\n",
    "num_nodes = 100\n",
    "pos = torch.randn(num_nodes, 3)  # random node positions\n",
    "\n",
    "# create edges\n",
    "max_radius = 1.8\n",
    "edge_src, edge_dst = radius_graph(pos, max_radius, max_num_neighbors=num_nodes - 1)\n",
    "\n",
    "print(edge_src.shape)\n",
    "\n",
    "edge_vec = pos[edge_dst] - pos[edge_src]\n",
    "\n",
    "# compute z\n",
    "num_neighbors = len(edge_src) / num_nodes\n",
    "num_neighbors"
   ]
  },
  {
   "cell_type": "code",
   "execution_count": 29,
   "id": "fd9391d9",
   "metadata": {},
   "outputs": [],
   "source": [
    "f_in = irreps_input.randn(num_nodes, -1)"
   ]
  },
  {
   "cell_type": "code",
   "execution_count": 30,
   "id": "77f230f2",
   "metadata": {},
   "outputs": [
    {
     "data": {
      "text/plain": [
       "tensor(0.9822)"
      ]
     },
     "execution_count": 30,
     "metadata": {},
     "output_type": "execute_result"
    }
   ],
   "source": [
    "f_in.pow(2).mean()  # should be close to 1"
   ]
  },
  {
   "cell_type": "code",
   "execution_count": 32,
   "id": "8e9aeecc",
   "metadata": {},
   "outputs": [
    {
     "ename": "AttributeError",
     "evalue": "type object 'Irreps' has no attribute 'spherical_harmonics'",
     "output_type": "error",
     "traceback": [
      "\u001b[0;31m---------------------------------------------------------------------------\u001b[0m",
      "\u001b[0;31mAttributeError\u001b[0m                            Traceback (most recent call last)",
      "Cell \u001b[0;32mIn[32], line 1\u001b[0m\n\u001b[0;32m----> 1\u001b[0m irreps_sh \u001b[38;5;241m=\u001b[39m \u001b[43msu2\u001b[49m\u001b[38;5;241;43m.\u001b[39;49m\u001b[43mIrreps\u001b[49m\u001b[38;5;241;43m.\u001b[39;49m\u001b[43mspherical_harmonics\u001b[49m(lmax\u001b[38;5;241m=\u001b[39m\u001b[38;5;241m2\u001b[39m)\n\u001b[1;32m      2\u001b[0m \u001b[38;5;28mprint\u001b[39m(irreps_sh)\n\u001b[1;32m      4\u001b[0m sh \u001b[38;5;241m=\u001b[39m o3\u001b[38;5;241m.\u001b[39mspherical_harmonics(irreps_sh, edge_vec, normalize\u001b[38;5;241m=\u001b[39m\u001b[38;5;28;01mTrue\u001b[39;00m, normalization\u001b[38;5;241m=\u001b[39m\u001b[38;5;124m'\u001b[39m\u001b[38;5;124mcomponent\u001b[39m\u001b[38;5;124m'\u001b[39m)\n",
      "\u001b[0;31mAttributeError\u001b[0m: type object 'Irreps' has no attribute 'spherical_harmonics'"
     ]
    }
   ],
   "source": [
    "irreps_sh = su2.Irreps.spherical_harmonics(lmax=2)\n",
    "print(irreps_sh)\n",
    "\n",
    "sh = o3.spherical_harmonics(irreps_sh, edge_vec, normalize=True, normalization='component')\n",
    "# normalize=True ensure that x is divided by |x| before computing the sh\n",
    "\n",
    "sh.pow(2).mean()  # should be close to 1"
   ]
  },
  {
   "cell_type": "code",
   "execution_count": 33,
   "id": "009fae36",
   "metadata": {},
   "outputs": [
    {
     "ename": "NameError",
     "evalue": "name 'irreps_sh' is not defined",
     "output_type": "error",
     "traceback": [
      "\u001b[0;31m---------------------------------------------------------------------------\u001b[0m",
      "\u001b[0;31mNameError\u001b[0m                                 Traceback (most recent call last)",
      "Cell \u001b[0;32mIn[33], line 1\u001b[0m\n\u001b[0;32m----> 1\u001b[0m tp \u001b[38;5;241m=\u001b[39m su2\u001b[38;5;241m.\u001b[39mFullyConnectedTensorProduct(irreps_input, \u001b[43mirreps_sh\u001b[49m, irreps_output, shared_weights\u001b[38;5;241m=\u001b[39m\u001b[38;5;28;01mFalse\u001b[39;00m)\n\u001b[1;32m      3\u001b[0m \u001b[38;5;28mprint\u001b[39m(\u001b[38;5;124mf\u001b[39m\u001b[38;5;124m\"\u001b[39m\u001b[38;5;132;01m{\u001b[39;00mtp\u001b[38;5;132;01m}\u001b[39;00m\u001b[38;5;124m needs \u001b[39m\u001b[38;5;132;01m{\u001b[39;00mtp\u001b[38;5;241m.\u001b[39mweight_numel\u001b[38;5;132;01m}\u001b[39;00m\u001b[38;5;124m weights\u001b[39m\u001b[38;5;124m\"\u001b[39m)\n\u001b[1;32m      5\u001b[0m tp\u001b[38;5;241m.\u001b[39mvisualize();\n",
      "\u001b[0;31mNameError\u001b[0m: name 'irreps_sh' is not defined"
     ]
    }
   ],
   "source": [
    "tp = su2.FullyConnectedTensorProduct(irreps_input, irreps_sh, irreps_output, shared_weights=False)\n",
    "\n",
    "print(f\"{tp} needs {tp.weight_numel} weights\")\n",
    "\n",
    "tp.visualize();"
   ]
  },
  {
   "cell_type": "code",
   "execution_count": null,
   "id": "e703fd75",
   "metadata": {},
   "outputs": [],
   "source": []
  },
  {
   "cell_type": "markdown",
   "id": "272920a0",
   "metadata": {},
   "source": [
    "# Equivariance check"
   ]
  },
  {
   "cell_type": "code",
   "execution_count": 34,
   "id": "8b21009c",
   "metadata": {},
   "outputs": [],
   "source": [
    "import logging\n",
    "\n",
    "import torch\n",
    "from torch_cluster import radius_graph\n",
    "from torch_geometric.data import Data, DataLoader\n",
    "from torch_scatter import scatter\n",
    "\n",
    "from su2nn_e3nn_core import su2\n",
    "from su2nn_e3nn_core.su2 import FullyConnectedTensorProduct\n",
    "from su2nn_e3nn_core.util.test import assert_equivariant"
   ]
  },
  {
   "cell_type": "code",
   "execution_count": 39,
   "id": "970bfbd2",
   "metadata": {},
   "outputs": [],
   "source": [
    "def data_prep():\n",
    "    pass"
   ]
  },
  {
   "cell_type": "code",
   "execution_count": 40,
   "id": "28505e8a",
   "metadata": {},
   "outputs": [],
   "source": [
    "class SU2_Net(torch.nn.Module):\n",
    "    def __init__(self) -> None:\n",
    "        super().__init__()\n",
    "        pass\n",
    "    \n",
    "    def forward():\n",
    "        pass"
   ]
  },
  {
   "cell_type": "code",
   "execution_count": null,
   "id": "21ac8b38",
   "metadata": {},
   "outputs": [],
   "source": []
  },
  {
   "cell_type": "code",
   "execution_count": 41,
   "id": "d9fe9803",
   "metadata": {},
   "outputs": [],
   "source": [
    "def main():\n",
    "    data, labels = data_prep()\n",
    "    f = SU2_Net()\n",
    "\n",
    "    optim = torch.optim.Adam(f.parameters(), lr=1e-2)\n",
    "\n",
    "    # == Train ==\n",
    "    for step in range(200):\n",
    "        pred = f(data)\n",
    "        loss = (pred - labels).pow(2).sum()\n",
    "\n",
    "        optim.zero_grad()\n",
    "        loss.backward()\n",
    "        optim.step()\n",
    "\n",
    "        if step % 10 == 0:\n",
    "            accuracy = pred.round().eq(labels).all(dim=1).double().mean(dim=0).item()\n",
    "            print(f\"epoch {step:5d} | loss {loss:<10.1f} | {100 * accuracy:5.1f}% accuracy\")\n",
    "\n",
    "    # == Check equivariance ==\n",
    "    # Because the model outputs (psuedo)scalars, we can easily directly\n",
    "    # check its equivariance to the same data with new rotations:\n",
    "    print(\"Testing equivariance directly...\")\n",
    "    rotated_data, _ = tetris()\n",
    "    error = f(rotated_data) - f(data)\n",
    "    print(f\"Equivariance error = {error.abs().max().item():.1e}\")\n",
    "\n",
    "    print(\"Testing equivariance using `assert_equivariance`...\")\n",
    "    # We can also use the library's `assert_equivariant` helper\n",
    "    # `assert_equivariant` also tests parity and translation, and\n",
    "    # can handle non-(psuedo)scalar outputs.\n",
    "    # To \"interpret\" between it and torch_geometric, we use a small wrapper:\n",
    "\n",
    "    def wrapper(pos, batch):\n",
    "        return f(Data(pos=pos, batch=batch))\n",
    "\n",
    "    # `assert_equivariant` uses logging to print a summary of the equivariance error,\n",
    "    # so we enable logging\n",
    "    logging.basicConfig(level=logging.INFO)\n",
    "    assert_equivariant(\n",
    "        wrapper,\n",
    "        # We provide the original data that `assert_equivariant` will transform...\n",
    "        args_in=[data.pos, data.batch],\n",
    "        # ...in accordance with these irreps...\n",
    "        irreps_in=[\n",
    "            \"cartesian_points\",  # pos has vector 1o irreps, but is also translation equivariant\n",
    "            None,  # `None` indicates invariant, possibly non-floating-point data\n",
    "        ],\n",
    "        # ...and confirm that the outputs transform correspondingly for these irreps:\n",
    "        irreps_out=[f.irreps_out],\n",
    "    )\n"
   ]
  },
  {
   "cell_type": "code",
   "execution_count": 42,
   "id": "53badd72",
   "metadata": {},
   "outputs": [
    {
     "ename": "TypeError",
     "evalue": "cannot unpack non-iterable NoneType object",
     "output_type": "error",
     "traceback": [
      "\u001b[0;31m---------------------------------------------------------------------------\u001b[0m",
      "\u001b[0;31mTypeError\u001b[0m                                 Traceback (most recent call last)",
      "Cell \u001b[0;32mIn[42], line 1\u001b[0m\n\u001b[0;32m----> 1\u001b[0m \u001b[43mmain\u001b[49m\u001b[43m(\u001b[49m\u001b[43m)\u001b[49m\n",
      "Cell \u001b[0;32mIn[41], line 2\u001b[0m, in \u001b[0;36mmain\u001b[0;34m()\u001b[0m\n\u001b[1;32m      1\u001b[0m \u001b[38;5;28;01mdef\u001b[39;00m \u001b[38;5;21mmain\u001b[39m():\n\u001b[0;32m----> 2\u001b[0m     data, labels \u001b[38;5;241m=\u001b[39m data_prep()\n\u001b[1;32m      3\u001b[0m     f \u001b[38;5;241m=\u001b[39m SU2_Net()\n\u001b[1;32m      5\u001b[0m     optim \u001b[38;5;241m=\u001b[39m torch\u001b[38;5;241m.\u001b[39moptim\u001b[38;5;241m.\u001b[39mAdam(f\u001b[38;5;241m.\u001b[39mparameters(), lr\u001b[38;5;241m=\u001b[39m\u001b[38;5;241m1e-2\u001b[39m)\n",
      "\u001b[0;31mTypeError\u001b[0m: cannot unpack non-iterable NoneType object"
     ]
    }
   ],
   "source": [
    "main()"
   ]
  },
  {
   "cell_type": "code",
   "execution_count": 44,
   "id": "e4af4e86",
   "metadata": {},
   "outputs": [],
   "source": [
    "def test():\n",
    "    data, labels = data_prep()\n",
    "    f = InvariantPolynomial()\n",
    "\n",
    "    pred = f(data)\n",
    "    loss = (pred - labels).pow(2).sum()\n",
    "    loss.backward()\n",
    "\n",
    "    rotated_data, _ = tetris()\n",
    "    error = f(rotated_data) - f(data)\n",
    "    assert error.abs().max() < 1e-5"
   ]
  },
  {
   "cell_type": "code",
   "execution_count": 45,
   "id": "e27185af",
   "metadata": {},
   "outputs": [
    {
     "ename": "TypeError",
     "evalue": "cannot unpack non-iterable NoneType object",
     "output_type": "error",
     "traceback": [
      "\u001b[0;31m---------------------------------------------------------------------------\u001b[0m",
      "\u001b[0;31mTypeError\u001b[0m                                 Traceback (most recent call last)",
      "Cell \u001b[0;32mIn[45], line 1\u001b[0m\n\u001b[0;32m----> 1\u001b[0m \u001b[43mtest\u001b[49m\u001b[43m(\u001b[49m\u001b[43m)\u001b[49m\n",
      "Cell \u001b[0;32mIn[44], line 2\u001b[0m, in \u001b[0;36mtest\u001b[0;34m()\u001b[0m\n\u001b[1;32m      1\u001b[0m \u001b[38;5;28;01mdef\u001b[39;00m \u001b[38;5;21mtest\u001b[39m():\n\u001b[0;32m----> 2\u001b[0m     data, labels \u001b[38;5;241m=\u001b[39m data_prep()\n\u001b[1;32m      3\u001b[0m     f \u001b[38;5;241m=\u001b[39m InvariantPolynomial()\n\u001b[1;32m      5\u001b[0m     pred \u001b[38;5;241m=\u001b[39m f(data)\n",
      "\u001b[0;31mTypeError\u001b[0m: cannot unpack non-iterable NoneType object"
     ]
    }
   ],
   "source": [
    "test()"
   ]
  },
  {
   "cell_type": "code",
   "execution_count": null,
   "id": "81670f47",
   "metadata": {},
   "outputs": [],
   "source": []
  },
  {
   "cell_type": "code",
   "execution_count": null,
   "id": "b4cae49e",
   "metadata": {},
   "outputs": [],
   "source": []
  },
  {
   "cell_type": "code",
   "execution_count": null,
   "id": "a890d3ff",
   "metadata": {},
   "outputs": [],
   "source": []
  },
  {
   "cell_type": "code",
   "execution_count": null,
   "id": "b4e11777",
   "metadata": {},
   "outputs": [],
   "source": []
  },
  {
   "cell_type": "code",
   "execution_count": null,
   "id": "d1df718c",
   "metadata": {},
   "outputs": [],
   "source": []
  },
  {
   "cell_type": "code",
   "execution_count": null,
   "id": "12bda416",
   "metadata": {},
   "outputs": [],
   "source": []
  },
  {
   "cell_type": "code",
   "execution_count": null,
   "id": "d9c59245",
   "metadata": {},
   "outputs": [],
   "source": []
  },
  {
   "cell_type": "code",
   "execution_count": null,
   "id": "1fd87367",
   "metadata": {},
   "outputs": [],
   "source": []
  },
  {
   "cell_type": "code",
   "execution_count": null,
   "id": "72de70a1",
   "metadata": {},
   "outputs": [],
   "source": []
  },
  {
   "cell_type": "code",
   "execution_count": null,
   "id": "215cb72f",
   "metadata": {},
   "outputs": [],
   "source": []
  },
  {
   "cell_type": "code",
   "execution_count": null,
   "id": "439def48",
   "metadata": {},
   "outputs": [],
   "source": []
  },
  {
   "cell_type": "code",
   "execution_count": null,
   "id": "0b77f91b",
   "metadata": {},
   "outputs": [],
   "source": []
  },
  {
   "cell_type": "code",
   "execution_count": null,
   "id": "a4c1cdde",
   "metadata": {},
   "outputs": [],
   "source": []
  }
 ],
 "metadata": {
  "kernelspec": {
   "display_name": "pdos",
   "language": "python",
   "name": "pdos"
  },
  "language_info": {
   "codemirror_mode": {
    "name": "ipython",
    "version": 3
   },
   "file_extension": ".py",
   "mimetype": "text/x-python",
   "name": "python",
   "nbconvert_exporter": "python",
   "pygments_lexer": "ipython3",
   "version": "3.9.13"
  }
 },
 "nbformat": 4,
 "nbformat_minor": 5
}
